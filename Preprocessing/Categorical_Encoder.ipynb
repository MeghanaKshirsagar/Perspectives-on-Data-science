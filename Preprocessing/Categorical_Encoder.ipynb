{
 "cells": [
  {
   "cell_type": "markdown",
   "metadata": {},
   "source": [
    "# Categorical encoding"
   ]
  },
  {
   "cell_type": "code",
   "execution_count": 1,
   "metadata": {},
   "outputs": [],
   "source": [
    "#importing libraries\n",
    "import pandas as pd\n",
    "import numpy as np\n",
    "from sklearn.preprocessing import LabelEncoder\n",
    "from sklearn.preprocessing import OneHotEncoder"
   ]
  },
  {
   "cell_type": "code",
   "execution_count": 2,
   "metadata": {},
   "outputs": [],
   "source": [
    "#importing dataset\n",
    "# pandas.read_csv(file): reads a comma-separated values (csv) file into DataFrame\n",
    "df = pd.read_csv('survey.csv')\n",
    "\n",
    "#dropping null values as it might ne considered as a new category\n",
    "#pandas.series.dropna(): returns a new series with null values removed\n",
    "df = df.dropna()"
   ]
  },
  {
   "cell_type": "code",
   "execution_count": 3,
   "metadata": {},
   "outputs": [
    {
     "data": {
      "text/plain": [
       "array(['Rarely', 'Sometimes', 'Often', 'Never'], dtype=object)"
      ]
     },
     "execution_count": 3,
     "metadata": {},
     "output_type": "execute_result"
    }
   ],
   "source": [
    "#extracting work interfere column for sample\n",
    "df_temp = df[['work_interfere']]\n",
    "\n",
    "#displaying unique values\n",
    "#pandas.unique(): returns unique values from the dataframe\n",
    "df_temp['work_interfere'].unique()"
   ]
  },
  {
   "cell_type": "markdown",
   "metadata": {},
   "source": [
    "## Using pandas library"
   ]
  },
  {
   "cell_type": "code",
   "execution_count": 4,
   "metadata": {},
   "outputs": [
    {
     "name": "stderr",
     "output_type": "stream",
     "text": [
      "<ipython-input-4-d3a9c3ff73f7>:3: SettingWithCopyWarning: \n",
      "A value is trying to be set on a copy of a slice from a DataFrame.\n",
      "Try using .loc[row_indexer,col_indexer] = value instead\n",
      "\n",
      "See the caveats in the documentation: https://pandas.pydata.org/pandas-docs/stable/user_guide/indexing.html#returning-a-view-versus-a-copy\n",
      "  df_temp['work_interfere'] = df_temp['work_interfere'].astype('category')\n",
      "<ipython-input-4-d3a9c3ff73f7>:7: SettingWithCopyWarning: \n",
      "A value is trying to be set on a copy of a slice from a DataFrame.\n",
      "Try using .loc[row_indexer,col_indexer] = value instead\n",
      "\n",
      "See the caveats in the documentation: https://pandas.pydata.org/pandas-docs/stable/user_guide/indexing.html#returning-a-view-versus-a-copy\n",
      "  df_temp['work_interfere_category'] = df_temp['work_interfere'].cat.codes\n"
     ]
    }
   ],
   "source": [
    "# converting type of columns to 'category'\n",
    "# pandas.dataframe.astype(type): returns dataframe with specidifed 'type' category\n",
    "df_temp['work_interfere'] = df_temp['work_interfere'].astype('category')\n",
    "\n",
    "\n",
    "# Assigning numerical values and storing in another column\n",
    "df_temp['work_interfere_category'] = df_temp['work_interfere'].cat.codes"
   ]
  },
  {
   "cell_type": "markdown",
   "metadata": {},
   "source": [
    "## Using sci-kit library with LabelEncoder class"
   ]
  },
  {
   "cell_type": "code",
   "execution_count": 5,
   "metadata": {},
   "outputs": [
    {
     "name": "stderr",
     "output_type": "stream",
     "text": [
      "<ipython-input-5-4de670d5f5e4>:7: SettingWithCopyWarning: \n",
      "A value is trying to be set on a copy of a slice from a DataFrame.\n",
      "Try using .loc[row_indexer,col_indexer] = value instead\n",
      "\n",
      "See the caveats in the documentation: https://pandas.pydata.org/pandas-docs/stable/user_guide/indexing.html#returning-a-view-versus-a-copy\n",
      "  df_temp['work_interfere_label'] = label_encoder.fit_transform(df_temp['work_interfere'])\n"
     ]
    }
   ],
   "source": [
    "# creating instance of labelencoder class from sklearn\n",
    "label_encoder = LabelEncoder()\n",
    "\n",
    "\n",
    "# Assigning numerical values and storing in another column\n",
    "#fit_transform(dataframe_col): returns the transformed column of specified column\n",
    "df_temp['work_interfere_label'] = label_encoder.fit_transform(df_temp['work_interfere'])"
   ]
  },
  {
   "cell_type": "markdown",
   "metadata": {},
   "source": [
    "# One-hot Encoding"
   ]
  },
  {
   "cell_type": "markdown",
   "metadata": {},
   "source": [
    "## Using One-Hot Encoder Class"
   ]
  },
  {
   "cell_type": "code",
   "execution_count": 6,
   "metadata": {},
   "outputs": [],
   "source": [
    "# creating instance of one-hot-encoder\n",
    "one_hot = OneHotEncoder(handle_unknown='ignore')\n",
    "\n",
    "\n",
    "# passing bridge-types-cat column (label encoded values of bridge_types)\n",
    "enc_df = pd.DataFrame(one_hot.fit_transform(df_temp[['work_interfere_category']]).toarray())\n",
    "\n",
    "# merge with main df bridge_df on key values\n",
    "#dataframe.join(column): returns dataframe with specified column appended in the dataframe\n",
    "df_temp = df_temp.join(enc_df)"
   ]
  },
  {
   "cell_type": "code",
   "execution_count": null,
   "metadata": {},
   "outputs": [],
   "source": []
  }
 ],
 "metadata": {
  "kernelspec": {
   "display_name": "Python 3",
   "language": "python",
   "name": "python3"
  },
  "language_info": {
   "codemirror_mode": {
    "name": "ipython",
    "version": 3
   },
   "file_extension": ".py",
   "mimetype": "text/x-python",
   "name": "python",
   "nbconvert_exporter": "python",
   "pygments_lexer": "ipython3",
   "version": "3.8.5"
  }
 },
 "nbformat": 4,
 "nbformat_minor": 2
}
